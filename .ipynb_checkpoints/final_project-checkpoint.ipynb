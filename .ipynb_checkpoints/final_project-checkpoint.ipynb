{
 "cells": [
  {
   "cell_type": "markdown",
   "id": "64c41eed",
   "metadata": {},
   "source": [
    "# Final project Anna van Tiel\n",
    "For the final project, I will be working on my own data. Since my study field is biomedical sciences, I want to do something biology related. Currently, I am not working on data in an internship or project, but online there is a lot of data open available that you can apply your own analysis on. In this project I will work on protein homology across different species.\n",
    "\n",
    "To give some background, proteins with similar functions are categorised into protein families. A well-known protein family in animals is the G protein coupled receptors (GPCRs) which act upstream of some common cell signalling pathways. In general across all proteins, amino acid motifs can be found in the linearised amino acid sequence, which are known as domains. Linearised amino acid sequences are available online in the UniProt database as .FASTA files. I am going to compare FASTA sequences of all GPCRs from three different species using the `Biopython` library: human, rat, and zebra fish. The main research questions are:\n",
    "\n",
    "\n",
    "- What protein domains are conserved in GPCRs across all different species?\n",
    "- Are there any domains which are conserved across mammalian GPCRs, but not mammalian and non-mammalian GPCRs?\n",
    "\n",
    "Hypothesis: blbla\n",
    "\n",
    "To answer these research questions, I downloaded three `.FASTA` files. Each file contains all FASTA sequences from proteins labelled as part of the GPCR family from the corresponding organism. They are in the data folder. Let's first import the required libraries.\n",
    "\n",
    "Note: sometimes to be a bit shorter, I refer to amino acid as aa in code, for instance `aa_record` rather than `amino_acid_record`."
   ]
  },
  {
   "cell_type": "code",
   "execution_count": 106,
   "id": "4b8a926c-8b51-4c8a-93f6-f42a508f805d",
   "metadata": {},
   "outputs": [],
   "source": [
    "# general python libraries\n",
    "import matplotlib.pyplot as plt\n",
    "import seaborn as sns\n",
    "import numpy as np\n",
    "import pandas as pd\n",
    "import string\n",
    "\n",
    "# biopython libraries\n",
    "from Bio import SeqIO, AlignIO, Phylo, Blast\t\t\t# need to have biopython installed -> pip install biopython\n",
    "from Bio.Seq import Seq\n",
    "from Bio.SeqRecord import SeqRecord\n",
    "from Bio.Align.Applications import ClustalwCommandline\t# need to have cmd tool clustalW installed -> conda install -c bioconda clustalw\n",
    "\n",
    "# supporting libraries\n",
    "import subprocess\n",
    "import biotite.sequence.align as align\t\t\t\t\t# need to have biotite installed -> pip install biotite\n",
    "import peptides \t\t\t\t\t\t\t\t\t\t# need to have peptides installed -> pip install peptides"
   ]
  },
  {
   "cell_type": "markdown",
   "id": "05d90521-a324-40ed-b25e-af027869656a",
   "metadata": {},
   "source": [
    "In `Biopython`, you can create `SeqRecord` class objects which can hold sequences such as DNA or amino acid sequences. Here I will assign each amino acid sequence in each `.FASTA` file to a dictionary with the organism name as key and the sequences of individual proteins in lists via an intermediate `SeqRecord` object. Here, I will import `.fa` files which are DNA specific `.FASTA` sequences."
   ]
  },
  {
   "cell_type": "markdown",
   "id": "9017a7f8-01b7-4317-84b8-8f1f9bbdc92e",
   "metadata": {},
   "source": [
    "`Seq` objects are only the sequences, `SeqRecord` objects contain additional information. `.fasta` files contain extra information and can only be imported as `SeqRecord` objects using `.read()`. I will use this to translate my DNA sequence into an amino acid sequence for each organism using `.translate()`."
   ]
  },
  {
   "cell_type": "code",
   "execution_count": 109,
   "id": "c0b67432-0e66-4e67-bc92-13b015c306e6",
   "metadata": {},
   "outputs": [
    {
     "name": "stdout",
     "output_type": "stream",
     "text": [
      "\n",
      "Check correct mapping\n",
      "{'D_melanogaster': 'fruit_fly', 'D_rerio': 'zebrafish', 'G_gallus': 'chicken', 'R_norvegicus': 'rat', 'M_mulatta': 'rhesus_monkey', 'H_sapiens': 'human'}\n"
     ]
    }
   ],
   "source": [
    "species = [\"D_melanogaster\", \"D_rerio\", \"G_gallus\", \"R_norvegicus\", \"M_mulatta\", \"H_sapiens\"]\n",
    "\n",
    "trivial_species = [\"fruit_fly\", \"zebrafish\", \"chicken\", \"rat\", \"rhesus_monkey\", \"human\"]\n",
    "\n",
    "# create a mapping dictionary to link trivial names to scientific names\n",
    "scientific_to_trivial = {scientific: trivial for scientific, trivial in zip(species, trivial_species)}\n",
    "\n",
    "# veryify correct mapping\n",
    "print(\"\\nCheck correct mapping\")\n",
    "print(scientific_to_trivial)\n",
    "\n",
    "# now read .fa files and store the record.ids, DNA sequences, and amino acid sequences in a nested dictionary\n",
    "Akt1 = {\"fruit_fly\": {}, \"zebrafish\": {}, \"chicken\": {}, \"rat\": {}, \"rhesus_monkey\": {}, \"human\": {}}\n",
    "\n",
    "# use open() function to write results of translation\n",
    "with open(f\"./data/translated_Akt1_sequences.fasta\", \"w\") as aa_filename:\n",
    "    for file in species:\n",
    "        dna_record = SeqIO.read(f\"./data/{file}_Akt1.fa\", \"fasta\")\n",
    "        aa_sequence = dna_record.seq.translate()\n",
    "\n",
    "        # store amino acid sequence as .fasta file\n",
    "        aa_record = SeqRecord(aa_sequence, id=dna_record.id, description=f\"translated {file} Akt1\")\n",
    "        SeqIO.write(aa_record, aa_filename, \"fasta\")\n",
    "\n",
    "        # also add record.ids, dna and amino acid sequences to Akt1 dictionary\n",
    "        # replace : to _ in ids to allow file storage\n",
    "        Akt1[scientific_to_trivial[file]][\"ID\"] = dna_record.id.replace(\":\", \"_\")\n",
    "        Akt1[scientific_to_trivial[file]][\"DNA_seq\"] = dna_record.format(\"fasta\")\n",
    "        Akt1[scientific_to_trivial[file]][\"AA_seq\"] = aa_record.format(\"fasta\")\n",
    "\n",
    "#print(\"\\nCheck correct storing of results:\")\n",
    "#print(Akt1[\"fruit_fly\"])"
   ]
  },
  {
   "cell_type": "markdown",
   "id": "4f355a91-ee5a-4d54-9076-dbf67a5919ed",
   "metadata": {},
   "source": [
    "Now I want to align the protein sequences, to see how similar they are and more importantly, which organisms are more similar to each other. ClustalW is a nice command-line tool for this. It aligns sequences and returns two files, `.aln` and `.dnd` files, which contain the alignment and a phylogenetic tree which can be read into Python. I can use subprocess to pipe the command from Python into the command-line.\n",
    "\n",
    "Since different methods are available for aligned DNA and protein sequences, I would also like to align the DNA sequences, for which I first need to merge the `.fa` files into one.\n",
    "\n",
    "Note: if the command does not work during checking of my assignment, no worries because the output files are available as `translated_Akt1_sequences.aln` and `translated_Akt1_sequences.dnd` (and similar for aligned DNA sequences) in my git repository in data."
   ]
  },
  {
   "cell_type": "code",
   "execution_count": 110,
   "id": "a985f67f-41a5-4dde-a5fc-dfaf9c0b8686",
   "metadata": {},
   "outputs": [
    {
     "name": "stdout",
     "output_type": "stream",
     "text": [
      "\n",
      "results peptide alignment:\n",
      "\n",
      "\n",
      "\n",
      " CLUSTAL 2.1 Multiple Sequence Alignments\n",
      "\n",
      "\n",
      "Sequence format is Pearson\n",
      "Sequence 1: NT_033777.3_16099228-16105670      611 aa\n",
      "Sequence 2: NC_007128.7_1437407-1537044        247 aa\n",
      "Sequence 3: NC_052536.1_c51173536-51102404     518 aa\n",
      "Sequence 4: NC_086024.1_c137555131-137534810   498 aa\n",
      "Sequence 5: NC_041760.1_c167123096-167093460   480 aa\n",
      "Sequence 6: NC_000014.9_c104795748-104769349   480 aa\n",
      "Start of Pairwise alignments\n",
      "Aligning...\n",
      "\n",
      "Sequences (1:2) Aligned. Score:  65\n",
      "Sequences (1:3) Aligned. Score:  56\n",
      "Sequences (1:4) Aligned. Score:  50\n",
      "Sequences (1:5) Aligned. Score:  61\n",
      "Sequences (1:6) Aligned. Score:  61\n",
      "Sequences (2:3) Aligned. Score:  91\n",
      "Sequences (2:4) Aligned. Score:  60\n",
      "Sequences (2:5) Aligned. Score:  90\n",
      "Sequences (2:6) Aligned. Score:  90\n",
      "Sequences (3:4) Aligned. Score:  73\n",
      "Sequences (3:5) Aligned. Score:  93\n",
      "Sequences (3:6) Aligned. Score:  93\n",
      "Sequences (4:5) Aligned. Score:  79\n",
      "Sequences (4:6) Aligned. Score:  79\n",
      "Sequences (5:6) Aligned. Score:  99\n",
      "Guide tree file created:   [./data/translated_Akt1_sequences.dnd]\n",
      "\n",
      "There are 5 groups\n",
      "Start of Multiple Alignment\n",
      "\n",
      "Aligning...\n",
      "Group 1: Sequences:   2      Score:9352\n",
      "Group 2: Sequences:   3      Score:9496\n",
      "Group 3: Sequences:   4      Score:9348\n",
      "Group 4: Sequences:   5      Score:4573\n",
      "Group 5: Sequences:   6      Score:7622\n",
      "Alignment Score 29276\n",
      "\n",
      "CLUSTAL-Alignment file created  [./data/translated_Akt1_sequences.aln]\n",
      "\n",
      "\n",
      "\n",
      "results DNA alignment:\n",
      "\n",
      "\n",
      "\n",
      " CLUSTAL 2.1 Multiple Sequence Alignments\n",
      "\n",
      "\n",
      "Sequence format is Pearson\n",
      "Sequence 1: NT_033777.3_16099228-16105670     1836 bp\n",
      "Sequence 2: NC_007128.7_1437407-1537044        744 bp\n",
      "Sequence 3: NC_052536.1_c51173536-51102404    1557 bp\n",
      "Sequence 4: NC_086024.1_c137555131-137534810  1497 bp\n",
      "Sequence 5: NC_041760.1_c167123096-167093460  1443 bp\n",
      "Sequence 6: NC_000014.9_c104795748-104769349  1443 bp\n",
      "Start of Pairwise alignments\n",
      "Aligning...\n",
      "\n",
      "Sequences (1:2) Aligned. Score:  57\n",
      "Sequences (1:3) Aligned. Score:  52\n",
      "Sequences (1:4) Aligned. Score:  50\n",
      "Sequences (1:5) Aligned. Score:  64\n",
      "Sequences (1:6) Aligned. Score:  64\n",
      "Sequences (2:3) Aligned. Score:  77\n",
      "Sequences (2:4) Aligned. Score:  51\n",
      "Sequences (2:5) Aligned. Score:  81\n",
      "Sequences (2:6) Aligned. Score:  80\n",
      "Sequences (3:4) Aligned. Score:  57\n",
      "Sequences (3:5) Aligned. Score:  74\n",
      "Sequences (3:6) Aligned. Score:  74\n",
      "Sequences (4:5) Aligned. Score:  73\n",
      "Sequences (4:6) Aligned. Score:  73\n",
      "Sequences (5:6) Aligned. Score:  96\n",
      "Guide tree file created:   [./data/merged_Akt1_dna_sequences.dnd]\n",
      "\n",
      "There are 5 groups\n",
      "Start of Multiple Alignment\n",
      "\n",
      "Aligning...\n",
      "Group 1: Sequences:   2      Score:26894\n",
      "Group 2: Sequences:   3      Score:23272\n",
      "Group 3: Sequences:   2      Score:11827\n",
      "Group 4: Sequences:   5      Score:15498\n",
      "Group 5: Sequences:   6      Score:16316\n",
      "Alignment Score 88646\n",
      "\n",
      "CLUSTAL-Alignment file created  [./data/merged_Akt1_dna_sequences.aln]\n",
      "\n",
      "\n"
     ]
    }
   ],
   "source": [
    "# run alignment on protein file\n",
    "cmd = \"clustalw -infile=./data/translated_Akt1_sequences.fasta\"\n",
    "results = subprocess.run(cmd, shell=True, stdout=subprocess.PIPE, text=True)\n",
    "print(\"\\nresults peptide alignment:\")\n",
    "print(results.stdout)\n",
    "\n",
    "# merge .fa files, then run alignment on dna file\n",
    "with open(f\"./data/merged_Akt1_dna_sequences.fa\", \"w\") as merge_filename:\n",
    "    for file in species:\n",
    "        dna_record = SeqIO.read(f\"./data/{file}_Akt1.fa\", \"fasta\")\n",
    "        SeqIO.write(dna_record, merge_filename, \"fasta\")\n",
    "\n",
    "# run alignment on dna file\n",
    "cmd = \"clustalw -infile=./data/merged_Akt1_dna_sequences.fa\"\n",
    "results = subprocess.run(cmd, shell=True, stdout=subprocess.PIPE, text=True)\n",
    "print(\"\\nresults DNA alignment:\")\n",
    "print(results.stdout)"
   ]
  },
  {
   "cell_type": "markdown",
   "id": "be3fa3df-ca4e-4aa5-962d-aefa616bfcb7",
   "metadata": {},
   "source": [
    "The first thing I notice is that the peptide pairwise alignments have higher scores than the DNA ones. This makes sense, since over the course of millions of years of evolution, sequencing errors may have resulted in mutations in the DNA. If this results in a different codon (three letter code representing an amino acid), this might lead to a non-functional protein and thus counter-selected by evolution. However, all amino acids have multiple three letter codes (for instance CCC, CCA, and CCG all code for proline), making them accumulate faster because they are not counter-selected in evolution.\n",
    "\n",
    "The score is in percentages, so DNA sequences 5 and 6 are very similar and peptide sequences 5 and 6 are nearly identical. On the first note, sequence 4 is the most unique as it has the lowest score with all other sequences in all pairwise alignments."
   ]
  },
  {
   "cell_type": "markdown",
   "id": "ace3fb58-6b36-48f3-8c9c-3daa14e9efcb",
   "metadata": {},
   "source": [
    "Next, I will read the alignment and phylogenetic tree files."
   ]
  },
  {
   "cell_type": "code",
   "execution_count": 111,
   "id": "6802a9ad-930c-4079-8b09-64f29ee4d938",
   "metadata": {},
   "outputs": [
    {
     "name": "stdout",
     "output_type": "stream",
     "text": [
      "Alignment with 6 rows and 646 columns\n",
      "--------------------------------------------...RFL NC_086024.1_c137555131-1375348\n",
      "--------------------------------------------...--- NC_000014.9_c104795748-1047693\n",
      "--------------------------------------------...--- NC_041760.1_c167123096-1670934\n",
      "--------------------------------------------...--- NC_052536.1_c51173536-51102404\n",
      "--------------------------------------------...--- NC_007128.7_1437407-1537044\n",
      "TNYLPFVLQRRSTVVASAPAPGSASRIPESPTTTGSNIINIIYS...SMQ NT_033777.3_16099228-16105670\n"
     ]
    }
   ],
   "source": [
    "align = AlignIO.read(\"./data/translated_Akt1_sequences.aln\", \"clustal\")\n",
    "print(align)"
   ]
  },
  {
   "cell_type": "markdown",
   "id": "70b69586-1d16-4d08-bce7-dbee4c1ad688",
   "metadata": {},
   "source": [
    "This is of course not very insightful yet, especially because one sequence seems to be divergent, with having no matches with the other sequences both at the start and end, suggesting that gaps may exist in the middle and that the alignment might not be very good. I can print a few frames further down the sequence to see whether this sequence is just different in the beginning or over the whole alignment.\n",
    "\n",
    "There is no easy method to look further in align, but I can use a for loop to manually print the sequences below each other at different index slices.\n",
    "\n",
    "I have to do a trick during the mapping of species name using the mapping dictionary because the ids in the alignment object seem to be truncated. I do this through splitting at a unique character before the truncated part of the id. Here I use `-`."
   ]
  },
  {
   "cell_type": "code",
   "execution_count": 119,
   "id": "c0384c78-3216-48f3-b157-b6f01edae5ad",
   "metadata": {},
   "outputs": [
    {
     "name": "stdout",
     "output_type": "stream",
     "text": [
      "\n",
      "Fragment 1: 0:100\n",
      ">rat\n",
      "----------------------------------------------------------------------------------------------------\n",
      ">human\n",
      "----------------------------------------------------------------------------------------------------\n",
      ">rhesus_monkey\n",
      "----------------------------------------------------------------------------------------------------\n",
      ">chicken\n",
      "-----------------------------------------------------------------------------------------MVTKYLENIFL\n",
      ">zebrafish\n",
      "----------------------------------------------------------------------------------------------------\n",
      ">fruit_fly\n",
      "TNYLPFVLQRRSTVVASAPAPGSASRIPESPTTTGSNIINIIYSQSTHPNSSPTSGSAEKFSWQQSWPSRTSAAPTHDSGTMSINTTFDLSSPSVTSGHA\n",
      "\n",
      "Fragment 2: 200:300\n",
      ">rat\n",
      "TFIIRCLQWTTVIERTFHVETPEEREEWTTAIQTVADGLK---------RQEEETMDFRSGSPSDNSGAEEMEVA----LAKPKHRVTMNEFEYLKLLGK\n",
      ">human\n",
      "TFIIRCLQWTTVIERTFHVETPEEREEWTTAIQTVADGLK---------KQEEEEMDFRSGSPSDNSGAEEMEVS----LAKPKHRVTMNEFEYLKLLGK\n",
      ">rhesus_monkey\n",
      "TFIIRCLQWTTVIERTFHVETPEEREEWTTAIQTVADGLK---------KHEEEMMDFRSGSPSDNSGAEEMEVS----LAKPKHRVTMNEFEYLKLLGK\n",
      ">chicken\n",
      "TFIIRCLQWTTVIERTFHVETPEEREEWTKAIQTVADSLK---------KQEEEMMDFRSGSPSDNSGAEEMEVS----MTKPKHKVTMNEFEYLKLLGK\n",
      ">zebrafish\n",
      "----------------------------------------------------------------------------------------------------\n",
      ">fruit_fly\n",
      "TFIIRGLQWTTVIERTFAVESELERQQWTEAIRNVSSRLIDVGEVAMTPSEQTDMTDVDMATIAEDELSEQFSVQGTTCNSSGVKKVTLENFEFLKVLGK\n",
      "\n",
      "Fragment 3: 400:500\n",
      ">rat\n",
      "SALDYLHSEKNVVYRDLKLENLMLDKDGHIKITDFGLCKEGIKDGATMKTFCGTPEYLAPEVLEDNDYGRAVDWWGLGVVMYEMMCGRLPFYNQDHEKLF\n",
      ">human\n",
      "SALDYLHSEKNVVYRDLKLENLMLDKDGHIKITDFGLCKEGIKDGATMKTFCGTPEYLAPEVLEDNDYGRAVDWWGLGVVMYEMMCGRLPFYNQDHEKLF\n",
      ">rhesus_monkey\n",
      "SALDYLHSEKNVVYRDLKLENLMLDKDGHIKITDFGLCKEGIKDGATMKTFCGTPEYLAPEVLEDNDYGRAVDWWGLGVVMYEMMCGRLPFYNQDHEKLF\n",
      ">chicken\n",
      "SALDYLHSEKNVVYRDLKLENLMLDKDGHIKITDFGLCKEGIKDGATMKTFCGTPEYLAPEVLEDNDYGRAVDWWGLGVVMYEMMCGRLPFYNQDHEKLF\n",
      ">zebrafish\n",
      "SALHYLHSERNVVYRDLKLENLMLDKDGHVKITDFGLCKEGITDGATMKTFCGTPEYLAPEVLEDNDYGRAVDWWGLGVVMYEMMCGRLPFYNQDHERLF\n",
      ">fruit_fly\n",
      "SALGYLHSQG-IIYRDLKLENLLLDKDGHIKVADFGLCKEDITYGRTTKTFCGTPEYLAPEVLDDNDYGQAVDWWGTGVVMYEMICGRLPFYNRDHDVLF\n",
      "\n",
      "Fragment 4: 600:700\n",
      ">rat\n",
      "DVSTVGSS-LPPSQVRRKTILGFFLIYFIRFEARHVASAPRTIRFL\n",
      ">human\n",
      "SMECVDSE-RRP--------------HFPQFSYSASGTA-------\n",
      ">rhesus_monkey\n",
      "SMECVDSE-RRP--------------HFPQFSYSASGTA-------\n",
      ">chicken\n",
      "SMDCVDNE-RRP--------------HFPQFSYSASGTA-------\n",
      ">zebrafish\n",
      "CMEAFDSE-RRP--------------HFPQFSYSASGTA-------\n",
      ">fruit_fly\n",
      "PLGSIAEEPLFPQFSYQG------DMASTLGTSSHISTSTSLASMQ\n"
     ]
    }
   ],
   "source": [
    "# create another mapping dictionary from sequence IDs to species names\n",
    "id_to_species = {values[\"ID\"]: species for species, values in Akt1.items()}\n",
    "\n",
    "def show_alignment(start, end):\n",
    "    \"\"\"\n",
    "    This function prints the alignment\n",
    "    for amino acids start until end\n",
    "    using the alignment column indices\n",
    "    \"\"\"\n",
    "\n",
    "    # split at -\n",
    "    for sequence in align:\n",
    "        trimmed_id = sequence.id.split(\"-\")[0]\n",
    "    \n",
    "        # loop over ids in mapping dictionary to match species, break when found\n",
    "        for species_id, species in id_to_species.items():\n",
    "            if trimmed_id == species_id.split(\"-\")[0]:\n",
    "                seq_species = species\n",
    "                break\n",
    "    \n",
    "        print(f\">{seq_species}\\n{sequence.seq[start:end]}\")\n",
    "\n",
    "for i in range(4):\n",
    "    print(f\"\\nFragment {i+1}: {i * 200}:{i * 200 + 100}\")\n",
    "    show_alignment(i * 200, i * 200 + 100)"
   ]
  },
  {
   "cell_type": "markdown",
   "id": "c3989d84-1f7e-4fd9-a54a-7d6b708722d4",
   "metadata": {},
   "source": [
    "It looks like the sequences differ a lot. Most notably, there is quite a good alignment between rhesus monkey and human, especially in fragment 4, which is not strange regarding monkey and human are evolutionary the closest relatives with the most recent common ancestor.\n",
    "\n",
    "I am curious to see if I can acquire some similarity scores "
   ]
  },
  {
   "cell_type": "code",
   "execution_count": 41,
   "id": "c5c58171-ca5e-478b-8398-92ea5c6e7e0b",
   "metadata": {},
   "outputs": [
    {
     "ename": "AttributeError",
     "evalue": "'MultipleSeqAlignment' object has no attribute 'score_matrix'",
     "output_type": "error",
     "traceback": [
      "\u001b[0;31m---------------------------------------------------------------------------\u001b[0m",
      "\u001b[0;31mAttributeError\u001b[0m                            Traceback (most recent call last)",
      "Cell \u001b[0;32mIn[41], line 1\u001b[0m\n\u001b[0;32m----> 1\u001b[0m \u001b[43malign\u001b[49m\u001b[38;5;241;43m.\u001b[39;49m\u001b[43mscore_matrix\u001b[49m()\n",
      "\u001b[0;31mAttributeError\u001b[0m: 'MultipleSeqAlignment' object has no attribute 'score_matrix'"
     ]
    }
   ],
   "source": [
    "\n",
    "substitutions = msa.substitutions\n",
    "\n",
    "from Bio.motifs import Motif\n",
    "\n",
    "alignment = msa.alignment\n",
    "motif = Motif(\"ACGT\", alignment)\n",
    "\n",
    "# find consensus sequences of motifs with minimal identity 0.7\n",
    "motif.counts.calculate_consensus(identity=0.7)\n",
    "\n",
    "\n",
    "\n",
    "\n",
    "\n"
   ]
  },
  {
   "cell_type": "code",
   "execution_count": 120,
   "id": "761cbf39-88a9-4f79-9142-d2676911960c",
   "metadata": {},
   "outputs": [
    {
     "name": "stdout",
     "output_type": "stream",
     "text": [
      "            ____________________________________________________ fruit_fly\n",
      "     ______|\n",
      "  __|      |________ zebrafish\n",
      " |  |\n",
      " |  |______ chicken\n",
      " |\n",
      " | rhesus_monkey\n",
      "_|\n",
      " |__________________________________ rat\n",
      " |\n",
      " | human\n",
      "\n"
     ]
    }
   ],
   "source": [
    "tree = Phylo.read(\"./data/merged_Akt1_dna_sequences.dnd\", \"newick\")\n",
    "\n",
    "# rename tree labels using descriptions\n",
    "\n",
    "# rename tree labels using dictionary lookup\n",
    "for clade in tree.get_terminals():\n",
    "    clade.name = id_to_species.get(clade.name, clade.name)\n",
    "\n",
    "Phylo.draw_ascii(tree)"
   ]
  },
  {
   "cell_type": "markdown",
   "id": "258980b5-38de-4f3b-93b1-91993deefe1b",
   "metadata": {},
   "source": [
    "This tree already tells us "
   ]
  },
  {
   "cell_type": "code",
   "execution_count": null,
   "id": "8e89530f-4a49-4bab-924b-9341dd4fc8f8",
   "metadata": {},
   "outputs": [],
   "source": []
  },
  {
   "cell_type": "code",
   "execution_count": null,
   "id": "2a3e70f3-cd28-461b-83dc-860f93c45af7",
   "metadata": {},
   "outputs": [],
   "source": []
  },
  {
   "cell_type": "code",
   "execution_count": null,
   "id": "a768ccca-657f-477b-b611-dca6bb12976b",
   "metadata": {},
   "outputs": [],
   "source": []
  },
  {
   "cell_type": "code",
   "execution_count": null,
   "id": "d6b08cac-bb5e-481a-9651-793274c64ac5",
   "metadata": {},
   "outputs": [],
   "source": []
  },
  {
   "cell_type": "code",
   "execution_count": null,
   "id": "831b7b3b-ac52-4e5b-b1a7-5b6d0233f608",
   "metadata": {},
   "outputs": [],
   "source": []
  },
  {
   "cell_type": "markdown",
   "id": "b6e0b44f-5df9-44ab-aa20-766c3eed5314",
   "metadata": {},
   "source": [
    "Next, I will store the peptide sequences as `peptide` class from the `peptide` library, allowing me to call methods which provide information about the charge at certain pH and aliphatic index (relative volume occupied by aliphatic side chains of peptides, where **aliphatic side chains** are non-aromatic hydrocarbon chains or **hydrophobic chains**)."
   ]
  },
  {
   "cell_type": "code",
   "execution_count": 16,
   "id": "4befd47c-eb06-4e6f-b13f-91cf703123c7",
   "metadata": {},
   "outputs": [
    {
     "name": "stdout",
     "output_type": "stream",
     "text": [
      "Peptide('>NC_000014.9:c104795748-104769349 translated sequence\\nGGGRTERGRRLAQRTQRGPKTGAGGRAPSAGHRAPSGGGTRGPAPSSAPARRGLQPGPAQ\\nRRPAGMRSGGRRRPRPG*ARARARTRRPGESPPAVAARAWISSPRAGPLCSRPVGPGREP\\nRRRQNGGAGAGSGRAGLGGEGAGRAGPAKGGRPHAGRRGCRLPAPASLMTLGRPLRRARP\\nGPERRDAAGPGAGARGAPAGRGAPRALGQRGSRRRCPGVGERLAAAGLQVCGRAPEGDFV\\nSHGRKVVRGGGVPRLATKDCDPPGPRNCFLSWVGPGGPARPSQRPRLGGQLGLAP*IEYP\\nGALASLVLSGRPLSAALVSG*AWAPALQPEAAPHSLLGLSALLQVATS*LL*VPHPSEGR\\nTESVGGGPVASPGSCVDFSYTRVLEADGGALSKTEYFFLSCDLIIVARICAYGKGRRQVR\\nRLWEVGVPPPPQAALCWPGVYVSVQTYTTLCEHRCIFTHGSGQLSDSVSSRPWRGSGPCG\\nGGGTSRGL*VQPSASRPRPLSVVRAPCA*GVRGSEPCPRSPAVPSSSLACFPSC*VLGAF\\nPSLGKVWSSLSWH*TQGSGPSCHSKCSLRQSVQSNPLWVSSPCLGRPERWPGGRASKLAV\\nERPMLGSIPQRSSGVSAWPGGPREDPPPLRKAHLEG*QRTAHRKSMRSALSGDACSW*CG\\nNWVLRDA*EFIHQRGNEEAMQDQWIKCAQVRVGWWAAAGRGPVQCSPTYLLPPDCCNYGS\\nVTTLDWVLLTDGLV*TSLCLQRPALGLAKPETPGTCWPNE*TRFRPAGALWFRRGLGFLP\\nGGFWACAGGLWTPVCASGLHPGPVFLMFEFLCFPSLGSREEPCALSQDPWVGTPWTGRAN\\nGAICHQGLREGRASLGQRSQRGCLEEAACQLVHQVREAGKAFWGWG*FVQRLGEVGMGR*\\nARQQLSGPGCCGWWWQGLEALSLE*GEAQVQGTVFNYMDLTLGSPECFGEREGRRADGGQ\\nRA*RDGSPPGKAGAGGAPRHVQWVSGSPRARSCP*PGVASHSASFASPRGCGQASWARGA\\nPA*EERVSVAGASGTMSDVAIVKEGWLHKRG*YPLPGLGLGRERWG**PQGL*VPVPCWV\\nGGAASPGAPGLA*GECPGPHVFPWHGGHGLGEARRMRPCAGPAI*VASWCGPWQAGELLP\\nASLLAFLEGSEDTGLFQGLARWRPRALPKGS*GQGRAAWLGLVPASGLSFGGGGNPYRLG\\nTGHVCLGAAELAEPSPPAPVSPSSLIWPCSLWRRCCPRGLASSWVGWELGT*PHPFQPCA\\nGPSASPTLRCSAGCGGVWVAVLLLCPARVGFLFRSRSSGQVTLFCPRRNRSALS*LLFPD\\nLFPPKF**SHASSPPALRTPSSRWVSHLVVGRPQTQLEQTGRCGKSRCHKMGHCGMYRSS\\nQKSRPKEPQEPGGGVKE*PR*DAGGIRGVAGCVFGVFEWAATSDGTRGLEMKTRRLQTPV\\nVLGELLALLPPKASCRILPSPSPPRVLSPACSPGVLPPVPGGPLLTSQPSLVSGTPCPDP\\nGPVPLCVT*SAAWGRCFFILGKCVFVDRLLDLGLTQEMPGP*LPRGPGPSYWGTHQPAGP\\nRQECSPEAR*FSGCC*CRAFRRGLAGTGHQAQWGVQRAEFEPWLATLSP*PFPRARSLSS\\nLGLSFPIYTRERWWERDLVEWRMACGRP*VGVRPASAASGLCHLAPSLRPGERVLYLYPR\\nLFLLHPQCSGR*GWEVAWI*HMPLAGIAPLVAESRWRPPAWPAAPCGGKPVLRGLPHFAT\\nPVPGVPCVSCRCAVPPSWQGQPHPQHWLEVLAAFLSLAGLCWADPTRASQCSGLAGGGEG\\nGRDAVTVLQARPQPLADALFHSPPALLLQVRVLVSEAGPHLSPLPGLPTTVAWGTLVLS*\\nIPR*QSHHGYLGWPHVA*WCLQG*CGH*DERGRVCPVCEGWGGSVCRLLLLLLGR*ASSL\\nGSGPGCFLLF*CVCSESEELQGQKGPGMGTQEFRLQACVDLWLDPGEASGSAHLTGRWFL\\nEGELRLLRAGASEEAGGAYRDRGPDVPSCFGCLTG*AAQLSSGHWWSGGLSVAQTFAFSK\\nICSVV*SLLIFEG*QF*KINPGPGRRSG*TRPPACSFPSFDSSVPGFGQRLCGSFEVLSP\\nNSLLTLPACPSTPGAVHQPGCSLAPWRAALVQPRPGACFCPLAAVFLSVPPSTWLDQVGQ\\nERAEAGGRDAGTQDEVLWALEKGLGLGQEWVPAAGAPPGLPQAGRCPRGAGEELQAWLPS\\nAGCDPAGQGRVGGGRGKLPGARGLRGRRS*VCGQRVQATDLGAWPGPGDTGPCVHAAHGG\\nSSLRTSESLPCPTPGPCLA*TPQSRPQGSPLTTPAELAPGVPVGSMEAGL*PQAGA*AGP\\nPSHPLSPP*SPGTGCPCGGALRQGESGSYPSVLLRFGERHRTSLHPQLLLSHPAGPGVPA\\n*GGGPQRVQATPLHPGGGLGFAE*TPLRRGLWGTLSPLQRAAAAEGPAGLIVCVQMEAAH\\nYPARMRGPAGP*GREPADSPLSLWEPLGSRPGLPVPPGPQFFPGCQVRVNPRLRLGGFSV\\nRPAGPGLVSAKLCLPWGSVEGLERPPWAGQGQRWGGKCAGSWWEGWAESGGPNSPGPTRE\\nRGRRHRLVEVMAWLWWRPPASGRFLFWELVEFSLQKQQKRKPRWP*VGVRGHCWPQPWTL\\nAPTPGGS*VDSSSSCVFLGHWPSLGRDALWGAGLREGKLRPRRVDRMWVE*FLCWGLDPR\\nTPSTLRRSLAGLHQAGFLEVLHEAERRELARPPLASPLPGHTRPGLGPAPCPRALP*LRL\\nVAVAVALGLLPRPPWVGSCLLLLSAWTIVPSPMASGEGSPSPALGPRAGWQRALGLQARM\\nGLLGEP*APYFLISNGSSLPCHAAFRCVFLEP*GMIGLDFRNVGIEGVGSSWVTLLPMLR\\nALGWDPWGAVFGLTHPPGGPGDCRPHPYPVTWRAHLPRPSAGCPAQGWRHPLGRPGGEVA\\nAPWAWRMQRGPSAGQGLAGLPTDWGQGHSSQV*GAETLSCTSLVRCGVRPRGSGPQCPSR\\nPGDQKEHPPQLAVLWGPSCPRRGSKLGQKQDGGEMEGPSVAGASHGRCGGRGPYCLVPVP\\nPAMQGTFPGVSGIERPALEPFNRQGPCPRETGGGRGCGHGCVPPAEPRKEPVPVPTSFPE\\nGSVYTWDTVASPPSQQALCAVPMPSFLPRRERG*GPWEPTGWRALGKACCKLWGEWAGAE\\n*EAPGRGCSLICRGPE*AGWAMTWVGLVWGRPKMRWGTGTGTGSWDVLGSAMDGCVAGGV\\nPLPARGVGDGQCLWGRTSRPRWSVRGSTREAQYPTQ*SPRRMES*DPGASLEWQEERPQR\\nLRLCLSEVDGVMVVPPARTMFLPGCVCRAEACSMVERKEVKNLQFVSSYNPCLGGRTWGL\\nSGHDLPLRVTSPKSPFSQGADGHDEPCPPCLPGGLSGRAEWVLGWARPRQVERQSSAWRE\\nQTPLLVQTGHLCPLRRACAGRSSGCISPTDLGAPAKWGQLASVVWPLPCPHPSLVVYRVR\\nGLLVKGCVLPGPGRGLAGRALRGELCGLLAGGEGGLRAPHGLPSAEPSAQCAGEGKWAPG\\nSCRGDGCVGSGDHGGRCQLAPAPRACWAHFAVEKQLGAAWHPASRCHHRLCEVFIQQFPE\\nNWGL*ENVQGAEDVVA*GG*HTWWLRRWSVPGRGGPPAGPQGPTQSCPWRVGPGPHV*VG\\nAALGGLTHSVAWDTCVRRGEGGLPVTVHVVPVVVVGWVGGGQAGAASSQNPGIWSRRTSG\\nKEPSFPGGAPAPSWG*AGLGMEGHSCRRATRDIGMPEGPGLGLCGAQEVQEESREPGLRC\\nPPGQGQESGQLPTPHRGQPPPMPGALGHGCAGWWGGLRVSSGTGAPALVASQDLVLDRCS\\nVTGLRVRVAPTWPRAGLERTLKGGTGAAASHCPGGQQEGETGTAASPLPREPAMGQEGGT\\nGAAASPLPRGPAMGQEGGTSPQCRPPLGPPLRSSGSGVGSPIRTC*HF*RGT*PSSLPDP\\nEAQAGVALGPCLLQVPGLKHVQRVGTWGFLSPAWGCES*GLKRPPGPECWAVSIALGSGC\\nWQEMTLAVCGVGRALASPFVACLYPSGVRAWRGNLGVCAHSVFGALSCAGRWVGWCWGGD\\nWGGVGGCQLADGGEMEGPSVAGASHGRCGGRGPYCLVPVPPAMQGTFPGVSGIERPLFKW\\nTVLLPRVGGI*GPQQGGELKLSPG*QVPVPLGTLRIVKEKTPCGLVSLCEGSGRAALADV\\nSVLPPS*GTRSRQVQACRRPVAMRTVMLGPGWLSPPPAPSCVTPVLDQGVVGPCRICCRG\\nWPPTQHPVWAELVKMRATALAAAGTPPSDPLADPLGER*RKRTVCLWTPYPGSLGILLLP\\nWRGLCAGLGCRRQRPREAPSLTPVSWGRP*SPSVPWVCGARRGEGTESPGPIWASAHPRT\\nPQECSGLGTCPLPPPTPGKRRPWACPSRTPRSSSQNPPDAAHRTWGWACGSRVRGKAGVG\\nHGSCVLGGSTGPCWARWGLAAVGG*DGFQGCRAWALISLPAQLASRGVAAGRMGGTPSGA\\nDSSRLACRRVGVSSGVAQDGGRVGWAACSPLSLLCSH*APLPARCTCRGPVAGGGDVGGG\\nVELRGTYVRVCAHSGVCEIPGQGQEPAPKGGRTTPARQPTGRGMEGLRSGWGLLMSALGH\\nRGRFWALDHPPCNWVLAVLQRCQAAMSGLWLSPSWSTPDLTTASSHTQALLGGVSPPSTS\\nIPPAALAWAERGLVLWRPRPVVLVGRALGSWGRGRRERSPGRGVAMCRALVAHLY*RTPP\\nWLPGK*NACWDAHDPCPLSSPGAAALLGLPCAPGRAGRVWAHHEDPAGLGGGWSGDGTIA\\nCPPHPSRCPCLGLSVA*KPRPQSSGTPTPYPGPLPNPCPVTPQMKQLPN**VPCCSNSLL\\nGKM*VEHFFPSVSMKNGTCWAITEDSCSDSEV*TPAYG*CCKT*GRMFPCT*MTHGWDAA\\nGPTAAGPECGSQPGDLAPSVPWGPCPAGWATSVSGFIGSPQDGAPGP*TGSAIPRQWAVL\\nSREPGPQSEWC*PLTVDAMLHPPGGWRRGGGGGHAGQPTQATVTCCRHLADPG*LGNAVS\\nPAAPVAIAGARAAAGACWGLAGLGLPPPGRLCRLAQTSSQPPVHGTPSPASSWPSPFSDT\\nARGGSSERGAVVGRVCLPVDPGPFLSLALRNSSRTAPAPWDSGIPGTSVLAHPVPAWLPG\\nEGLTGRVCVALTTRTSVGEYIKTWRPRYFLLKNDGTFIGYKERPQDVDQREAPLNNFSVA\\nRKYPLGLSGFRFGGLAGALFAHQAPRWGSPGASKSWAGKQQALAGWGSLGRVPRLAGQGS\\nPG*VPKLRLAGWESPG*VLRPRLAGQGSLVQVPRPRLAGQGSPS*VLRLAGRGSLVRVPR\\nPRLAGPGSLG*VPRPRPAGQGFLGRVLRPRLAGRGSLGRVPRLADPGAVPWCPCSGSWRV\\nRTSGSRAQSQGGQLPRGPLLQGG*IEPIRASPWETPWVRGQESIGVSSSEASITRGRARA\\nSPCTGSQPPDPMAEPLLPLCEAASLPMEGQVQKGQRGTLAGASHRDERHVTLPAPPCCGF\\nIPYL*RGQVRPYPCQTGTLAWRPRRPARWEAGDTWASQHGPHFLCPCPGAQLCLWQPETR\\nVGHAGVTEWLIRAQLWAICMWQGWVTAGLWDLSQAGLWCRARCPPGAGLRFHPHVLHRPL\\nPSK*LCPPFFEACGPPTPLNLLDPQVLVQGLGGG*MQGIRPQAGQGRTPTLGACTYKGRW\\nGQSGTLAARWSVASKPCPEASSWEGQRPCPAKPQAEGLGLGWGLPGPGSCKPRSPSLALP\\nASSQQ*QGSLIE*GTPGVRGDQEGRHPCLLTAS*PCRRLTVTCPTPSPVSPRLGLGASGI\\nRERLGASSVPGGTWDRALLGVGAVGVLARPRHWEGTRWGALWRGTRVGTSWRCCLSSWQG\\nWGLQIRP*VSGLERLAKEQSWAGARGCAGPLSGAFLRGTVPGQWARDSGPGDCILGQIGP\\nSRSEWEVGVPGLHTGFHFSGLC*HRPPSPPGWSRAPSWPPGLEDSFLAAWPGPLVVARAS\\nMLECQRPPTGPSASSCFAQAGPEPATEPQRLHTPLTHTSQGPARSHSPQGVRAVGVAVPQ\\nVCVPQVCLCPRCGCAPGVRVPQVFVCPRCG*VSRCVLDVCVFQCGCVPGVRVPQVCASGV\\nRVPQVWLCLQCVCAPDVCVPQVWLCPRCACAPGVAVPQVCLCPRCGCAPGVGVLQVAVFP\\nRYSG*GWEKSRTFLH*VGQAGFWGAPLMPAPLWDLHTPHPLRPGARRGSETEGRTVGVDD\\nGGGLT*RRARCPVWLPQPGVECLSWNRGPSPTL*GEKLRLGERKRWGFPGPGGWYARGAG\\nWCSGGCGEGPGRGRGMHADRGSACPQSAS**RRSGPGPTPSSSAACSGPLSSNAPSMWRL\\nLRSGTWAVAARPGTWAAPALRRDTGMAGCWHLCL*PSSLPSAPRPSSEPSLETGPVLPVG\\nFGWGN*GWR*KLARDRVQWLTSIISALWEAEVRRSLETRSLRLACQHGETPVSTKNIKLS\\nWVWWCTPVIPATWEAEAQESLEPERQRLQEPRFYHCTPARAIEQDSVSKKEKPGGEGQSS\\nLGGGVLLGRRSPAWGGRSPAGGRSPAGGWSPVVGTESCWGAKPGCPPRPRGLRDPECMWP\\nDQVKWWPPQGCLWEPRQLWNHACEAGGWVKDVGWSS*SGTGLQPHLTSCREEWTTAIQTV\\nADGLKKQEEEEMDFRSGSPSDNSGAEEMEVSLAKPKHRVVRPVPTSACAWGCLGLWRAGW\\nVMGSQLGPGDTQHSTASPPRPVFHVGRSCFPGGSSSPCQRKTGVAEPCQAWAMLPHPSLN\\nPML*AGAAAMCSL*AWTPR*AQ*ATRCEVDASPGSASDSGAPHATPRMPTSWALLAAPLA\\nDPGACP*TMNEFEYLKLLGKGTFGKVILVKEKATGRYYAMKILKKEVIVAKVGPGRWGRV\\nEMRVRGGSSPSPALQDEVAHTLTENRVLQNSRHPFLTVSGSPDGAEGLGPGSDSWGCL*G\\nTMSCLLGHVRALHTVDSAAGETGLPWRVRLWRCPVWARGCARCSRVRAGGWGRWPWSSLH\\nSAEAPGGPSSPCPAALPARLLLRPGLCPAEPVLGTWPRRYLL*RGPGSSHLVSSRSLCLG\\nTILLQMGPLL*KHSRLWWKAGGWVSPGRVCPPFAKALVLGALSPAEVPTHPGGPEPRPPC\\nSPFKHSLAPQGLPGPSLMVAWHEAVWCGAVWCGAAWHGGSVMWGCMVWGSVMGCVVWGSV\\nVSGGVVSGSVVSGSVVWGYGRCGIRRRGIKQRGVGQRGAGLPSCLWGRSSSSPSLQALKY\\nSFQTHDRLCFVMEYANGGEVGAGAAGDGLRGLWAAHGGAGPSRSLGYSPWHQTVLPAGWV\\nV*CLPRQLPAVG*LVPAELGLLRLSRPPCPLVAGPFPVQCRDPV*ETPALQAMGAEARAT\\nAVPQVAPPAAVLPPVPGACVLRGPGPLLWR*DCVSPGLPALGEERGVPGPQGALAGRQGG\\nRALGAWRH*PEATFPLAGEPHAGQGRAH*DHRLRAVQGGDQGRCHHEDLLRHT*VPGPRG\\nVRPTCVHTRCCVPTS*AHAMLCPLCAPSTSHLPRQCPGHPLMPSPAHLPPVQVLEDNDYG\\nRAVDWWGLGVVMYEMMCGRLPFYNQDHEKLFELILMEEIRFPRTLGPEAKSLLSGLLKKD\\nPKQR*GPPIPATGYTSIPSSPGCTCPCARRSWHLPDYTDSQSLMSLARADLQSLRPKQSG\\nGQAGVSWASVPNPAACTHPLRKPLPCRELCGALLPTAAQGRCTTGSPPWPRNVLSGGPYI\\nTGGRGLNPGPGQVAVPTLWPCFLPAGLAGAPRTPRRSCSIASLPVSCGSTCTRRRCGCSP\\nHIHAHACSPHIHTHACTWHARQISHTLALTSGACCSPGTRRALLHQPQRLVLRGSGTAGF\\nHQETGLVLISSSPRRCVTL*VSSSPRRCVTL*VPALGFPSLTLCSEGWLVVDQGCCPLAS\\nTSSSCLTSIPSAARRAQPYFWLCRDRDSTYFSGTWGSPPWREAALSA*VAILGAHLSGTL\\nGALAITPADGVCQLGSEACTLRCWVPCHQVCFCPVPSLPLP*MPVLGCVQLVGLGSPGTQ\\nLGTCSPINTGCPGPGPRSCLEACHPPALPSKGMGGLGSAQPLPSLDQRPC*LTMDNAGAQ\\nPRLWGGAVLEGVLDCGT*GALWQLLTCAHHLIVTLHPGSLRVLSAARCQQAVVL*SLSHG\\nGRVGSSCAPCSTVSLFPNLQEDQ*EK*ENKKEKGKIKLSPPGSREGLSELGCTTSCRLLG\\nLL*GQLCVSAVEGCLRAPAPLMSLPPRAASVGGWWLAAL*HQSCLETPWRSRCFEGLEHT\\n*GCAGSGERSS*LSRLPTSAAQPTLQAPGHVGD*HQVF**GVHGPDDHHHTT*PR*GATA\\nCPRPLPFLSTLREACSVQLFWLQMF*NLNI*KGSFWRVPMIRVGGSALRAQVPVSICGAL\\nSQFPGSMAACWPCFKRLASYWSCGWVEVAGRWGTGV*AVYTHR*QHGVCGQRAQAPLPPV\\nLLLGQRHGLRRRWTALDDSLEGWRGGLVP*SVFNGFYFSGAFERSHAVLSSPDGKTFLCC\\nGQHPPPQRGREENYPAGFNLFHPVCSPGVASALRTIRFT*GNVKDFCSYAQCGIGGPGRS\\nCPCVPSLCQPAALGCLSPAICHLSGALGLSSTWWHQMQPHYGMLASTLSWGWQAHSSPPA\\nLRPCL*GRHRRLGPWDGTRDGGWARVYPVGQRSKV*ICYCVLCCSNAFWGFLIFVTGKPS\\nPFPFCVTVLGDCPTGSLPLR*SLHGST*PFRRLTFPLSPQALPDSLWGWPSLGPSTPPGQ\\nTLPLPLHHGVFLQHSTLVFLLL*YNMEPSLQILQ*KLLFK\\n')\n",
      "\n",
      "aliphatic index:\n",
      "67.89912231974225\n",
      "\n",
      "boman index:\n",
      "1.1487323630707698\n",
      "\n",
      "charge at physiological pH (7.4):\n",
      "311.5371276688204\n",
      "\n",
      "isoelectric point:\n",
      "9.282936924137175\n"
     ]
    }
   ],
   "source": [
    "for organism in Akt1.keys():\n",
    "    for peptide in Akt1[organism]:\n",
    "        peptide = peptides.Peptide(peptide)\n",
    "\n",
    "# check whether the action was succesful\n",
    "print(peptide)\n",
    "\n",
    "print(\"\\naliphatic index:\")\n",
    "print(peptide.aliphatic_index())\n",
    "print(\"\\nboman index:\")\n",
    "print(peptide.boman())\n",
    "print(\"\\ncharge at physiological pH (7.4):\")\n",
    "print(peptide.charge(pH=7.4))\n",
    "print(\"\\nisoelectric point:\")\n",
    "print(peptide.isoelectric_point())"
   ]
  },
  {
   "cell_type": "markdown",
   "id": "802ac2f6-e1a4-448f-b7d2-c84ae2f6f24d",
   "metadata": {},
   "source": [
    "Next, I will align the sequences"
   ]
  },
  {
   "cell_type": "code",
   "execution_count": null,
   "id": "7e6f43ba-e790-4923-8879-89d733a4edb5",
   "metadata": {},
   "outputs": [],
   "source": [
    "\n",
    "\n",
    "# Define the command to run ClustalW\n",
    "clustalw_cline = ClustalwCommandline(\"clustalw\", infile=\"sequences.fasta\")\n",
    "\n",
    "# Execute the alignment\n",
    "stdout, stderr = clustalw_cline()\n",
    "print(stdout)"
   ]
  },
  {
   "cell_type": "code",
   "execution_count": null,
   "id": "baf2f2a9-2212-4b61-a1a4-33db0549d2c4",
   "metadata": {},
   "outputs": [],
   "source": []
  },
  {
   "cell_type": "code",
   "execution_count": 4,
   "id": "5537d0a0-0327-44a7-865b-2ed4774c6791",
   "metadata": {},
   "outputs": [],
   "source": [
    "uppercase_alphabet = string.ascii_uppercase\n",
    "\n",
    "amino_acid_count = {}\n",
    "\n",
    "not_amino_acids = set([\"B\", \"J\", \"O\", \"U\", \"X\", \"Z\"])\n",
    "\n",
    "for letter in uppercase_alphabet:\n",
    "    if letter not in not_amino_acids:\n",
    "        amino_acid_count[letter] = 0\n",
    "\n",
    "master_count = {}\n",
    "\n",
    "for organism in GPCRs.keys():\n",
    "    master_count[organism] = amino_acid_count.copy()\n",
    "\n",
    "\n",
    "amino_acid_reset = amino_acid_count\n",
    "amino_acid_frac = {}\n",
    "\n",
    "# create a JSON file containing organisms at the first level and amino acid counts at the second\n",
    "for organism in GPCRs.keys():\n",
    "    for protein in GPCRs[organism]:\n",
    "        for letter in protein:\n",
    "            master_count[organism][letter] += 1\n",
    "\n",
    "\n"
   ]
  },
  {
   "cell_type": "code",
   "execution_count": null,
   "id": "ffc5dbe0-9049-426c-b7f8-449886c21545",
   "metadata": {},
   "outputs": [],
   "source": [
    "\n",
    "\n"
   ]
  },
  {
   "cell_type": "code",
   "execution_count": 6,
   "id": "753b3285-f228-4d64-ae98-018927307b2c",
   "metadata": {},
   "outputs": [
    {
     "data": {
      "image/png": "[encoded data removed]",
      "text/plain": [
       "<Figure size 800x500 with 1 Axes>"
      ]
     },
     "metadata": {},
     "output_type": "display_data"
    }
   ],
   "source": [
    "import matplotlib.pyplot as plt\n",
    "import numpy as np\n",
    "\n",
    "# Sample data (nested dictionary)\n",
    "data = master_count\n",
    "\n",
    "# Extract labels\n",
    "categories = list(next(iter(data.values())).keys())  # Get amino acids (A, B, C, etc.)\n",
    "organisms = list(data.keys())  # Get organism names\n",
    "\n",
    "# Extract values for stacking\n",
    "values = np.array([[data[org][cat] for cat in categories] for org in organisms])  # Convert to NumPy array\n",
    "\n",
    "# Plot stacked bar chart\n",
    "fig, ax = plt.subplots(figsize=(8, 5))\n",
    "\n",
    "bottom = np.zeros(len(categories))  # Track bottom of bars for stacking\n",
    "\n",
    "for i, organism in enumerate(organisms):\n",
    "    ax.bar(categories, values[i], label=organism.replace(\"_\", \" \"), bottom=bottom)\n",
    "    bottom += values[i]  # Update bottom positions for stacking\n",
    "\n",
    "# Formatting\n",
    "ax.set_xlabel(\"Amino Acids\")\n",
    "ax.set_ylabel(\"Count\")\n",
    "ax.set_title(\"Stacked Bar Plot of Amino Acid Counts Across Organisms\")\n",
    "ax.legend(title=\"Organisms\")\n",
    "\n",
    "# Show plot\n",
    "plt.show()\n"
   ]
  },
  {
   "cell_type": "code",
   "execution_count": 21,
   "id": "585fa4c1-7806-4603-8484-816ce6cf4827",
   "metadata": {},
   "outputs": [
    {
     "data": {
      "image/png": "[encoded data removed]",
      "text/plain": [
       "<Figure size 800x500 with 1 Axes>"
      ]
     },
     "metadata": {},
     "output_type": "display_data"
    }
   ],
   "source": [
    "import matplotlib.pyplot as plt\n",
    "\n",
    "# Extract keys (categories like A, B, C, D) and values (counts per organism)\n",
    "categories = list(next(iter(master_count.values())).keys())  # Get column labels\n",
    "organisms = list(master_count.keys())  # Get row labels\n",
    "\n",
    "# Transform data for plotting\n",
    "values = {category: [master_count[org][category] for org in organisms] for category in categories}\n",
    "\n",
    "# Plot grouped bar chart\n",
    "x = range(len(organisms))\n",
    "width = 0.2\n",
    "\n",
    "plt.figure(figsize=(8, 5))\n",
    "\n",
    "for i, category in enumerate(categories):\n",
    "    plt.bar([p + i * width for p in x], values[category], width, label=category)\n",
    "\n",
    "plt.xticks([p + width for p in x], organisms)\n",
    "plt.xlabel(\"Organisms\")\n",
    "plt.ylabel(\"Count\")\n",
    "plt.title(\"Comparison of A, B, C, D Across Organisms\")\n",
    "plt.legend()\n",
    "plt.show()\n",
    "\n"
   ]
  }
 ],
 "metadata": {
  "kernelspec": {
   "display_name": "Python 3 (ipykernel)",
   "language": "python",
   "name": "python3"
  },
  "language_info": {
   "codemirror_mode": {
    "name": "ipython",
    "version": 3
   },
   "file_extension": ".py",
   "mimetype": "text/x-python",
   "name": "python",
   "nbconvert_exporter": "python",
   "pygments_lexer": "ipython3",
   "version": "3.11.11"
  }
 },
 "nbformat": 4,
 "nbformat_minor": 5
}
