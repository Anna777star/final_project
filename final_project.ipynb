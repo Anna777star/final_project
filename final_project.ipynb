{
 "cells": [
  {
   "cell_type": "markdown",
   "id": "64c41eed",
   "metadata": {},
   "source": [
    "# Final project Anna van Tiel\n",
    "For the final project, I will be working on my own data. Since my study field is biomedical sciences, I want to do something biology related. Currently, I am not working on data in an internship or project, but online there is a lot of data open available that you can apply your own analysis on. In this project I will work on protein homology across different species.\n",
    "\n",
    "To give some background, proteins with similar functions are categorised into protein families. A well-known protein family in animals is the G protein coupled receptors (GPCRs) which act upstream of some common cell signalling pathways. In general across all proteins, amino acid motifs can be found in the linearised amino acid sequence, which are known as domains. Linearised amino acid sequences are available online in the UniProt database as .FASTA files. I am going to compare FASTA sequences of all GPCRs from three different species using the `Biopython` library: human, rat, and zebra fish. The main research questions are:\n",
    "\n",
    "\n",
    "- What protein domains are conserved in GPCRs across all different species?\n",
    "- Are there any domains which are conserved across mammalian GPCRs, but not mammalian and non-mammalian GPCRs?"
   ]
  }
 ],
 "metadata": {
  "kernelspec": {
   "display_name": "Python 3 (ipykernel)",
   "language": "python",
   "name": "python3"
  },
  "language_info": {
   "codemirror_mode": {
    "name": "ipython",
    "version": 3
   },
   "file_extension": ".py",
   "mimetype": "text/x-python",
   "name": "python",
   "nbconvert_exporter": "python",
   "pygments_lexer": "ipython3",
   "version": "3.11.11"
  }
 },
 "nbformat": 4,
 "nbformat_minor": 5
}
